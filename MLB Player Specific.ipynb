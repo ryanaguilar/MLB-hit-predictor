{
 "cells": [
  {
   "cell_type": "code",
   "execution_count": 1,
   "metadata": {},
   "outputs": [],
   "source": [
    "import pandas as pd\n",
    "import numpy as np\n",
    "import pandas as pd\n",
    "import seaborn as sns\n",
    "import matplotlib.pyplot as plt"
   ]
  },
  {
   "cell_type": "code",
   "execution_count": 10,
   "metadata": {},
   "outputs": [
    {
     "data": {
      "text/html": [
       "<div>\n",
       "<style scoped>\n",
       "    .dataframe tbody tr th:only-of-type {\n",
       "        vertical-align: middle;\n",
       "    }\n",
       "\n",
       "    .dataframe tbody tr th {\n",
       "        vertical-align: top;\n",
       "    }\n",
       "\n",
       "    .dataframe thead th {\n",
       "        text-align: right;\n",
       "    }\n",
       "</style>\n",
       "<table border=\"1\" class=\"dataframe\">\n",
       "  <thead>\n",
       "    <tr style=\"text-align: right;\">\n",
       "      <th></th>\n",
       "      <th>index</th>\n",
       "      <th>Name</th>\n",
       "      <th>Tm</th>\n",
       "      <th>BA</th>\n",
       "      <th>BABIP</th>\n",
       "      <th>BIP</th>\n",
       "      <th>Games_played_to_date</th>\n",
       "      <th>ISO</th>\n",
       "      <th>LA_avg</th>\n",
       "      <th>LA_median</th>\n",
       "      <th>...</th>\n",
       "      <th>X3B</th>\n",
       "      <th>HR</th>\n",
       "      <th>RBI</th>\n",
       "      <th>BB</th>\n",
       "      <th>SO</th>\n",
       "      <th>WPA</th>\n",
       "      <th>RE24</th>\n",
       "      <th>aLI</th>\n",
       "      <th>BOP</th>\n",
       "      <th>Pos.Summary</th>\n",
       "    </tr>\n",
       "  </thead>\n",
       "  <tbody>\n",
       "    <tr>\n",
       "      <th>0</th>\n",
       "      <td>0</td>\n",
       "      <td>Travis d'Arnaud</td>\n",
       "      <td>NaN</td>\n",
       "      <td>0.0</td>\n",
       "      <td>0.0</td>\n",
       "      <td>0.33333</td>\n",
       "      <td>1</td>\n",
       "      <td>0.0</td>\n",
       "      <td>NaN</td>\n",
       "      <td>NaN</td>\n",
       "      <td>...</td>\n",
       "      <td>NaN</td>\n",
       "      <td>NaN</td>\n",
       "      <td>NaN</td>\n",
       "      <td>NaN</td>\n",
       "      <td>NaN</td>\n",
       "      <td>NaN</td>\n",
       "      <td>NaN</td>\n",
       "      <td>NaN</td>\n",
       "      <td>NaN</td>\n",
       "      <td>NaN</td>\n",
       "    </tr>\n",
       "    <tr>\n",
       "      <th>1</th>\n",
       "      <td>1</td>\n",
       "      <td>Travis d'Arnaud</td>\n",
       "      <td>NYM</td>\n",
       "      <td>0.0</td>\n",
       "      <td>0.0</td>\n",
       "      <td>0.50000</td>\n",
       "      <td>2</td>\n",
       "      <td>0.0</td>\n",
       "      <td>NaN</td>\n",
       "      <td>NaN</td>\n",
       "      <td>...</td>\n",
       "      <td>0.0</td>\n",
       "      <td>0.0</td>\n",
       "      <td>0.0</td>\n",
       "      <td>1.0</td>\n",
       "      <td>2.0</td>\n",
       "      <td>-0.037</td>\n",
       "      <td>-0.425</td>\n",
       "      <td>0.870</td>\n",
       "      <td>7.0</td>\n",
       "      <td>C</td>\n",
       "    </tr>\n",
       "    <tr>\n",
       "      <th>2</th>\n",
       "      <td>2</td>\n",
       "      <td>Travis d'Arnaud</td>\n",
       "      <td>NaN</td>\n",
       "      <td>0.0</td>\n",
       "      <td>0.0</td>\n",
       "      <td>0.44444</td>\n",
       "      <td>3</td>\n",
       "      <td>0.0</td>\n",
       "      <td>NaN</td>\n",
       "      <td>NaN</td>\n",
       "      <td>...</td>\n",
       "      <td>NaN</td>\n",
       "      <td>NaN</td>\n",
       "      <td>NaN</td>\n",
       "      <td>NaN</td>\n",
       "      <td>NaN</td>\n",
       "      <td>NaN</td>\n",
       "      <td>NaN</td>\n",
       "      <td>NaN</td>\n",
       "      <td>NaN</td>\n",
       "      <td>NaN</td>\n",
       "    </tr>\n",
       "    <tr>\n",
       "      <th>3</th>\n",
       "      <td>3</td>\n",
       "      <td>Travis d'Arnaud</td>\n",
       "      <td>NaN</td>\n",
       "      <td>0.0</td>\n",
       "      <td>0.0</td>\n",
       "      <td>0.50000</td>\n",
       "      <td>4</td>\n",
       "      <td>0.0</td>\n",
       "      <td>NaN</td>\n",
       "      <td>NaN</td>\n",
       "      <td>...</td>\n",
       "      <td>NaN</td>\n",
       "      <td>NaN</td>\n",
       "      <td>NaN</td>\n",
       "      <td>NaN</td>\n",
       "      <td>NaN</td>\n",
       "      <td>NaN</td>\n",
       "      <td>NaN</td>\n",
       "      <td>NaN</td>\n",
       "      <td>NaN</td>\n",
       "      <td>NaN</td>\n",
       "    </tr>\n",
       "    <tr>\n",
       "      <th>4</th>\n",
       "      <td>4</td>\n",
       "      <td>Travis d'Arnaud</td>\n",
       "      <td>NYM</td>\n",
       "      <td>0.0</td>\n",
       "      <td>0.0</td>\n",
       "      <td>0.60000</td>\n",
       "      <td>5</td>\n",
       "      <td>0.0</td>\n",
       "      <td>NaN</td>\n",
       "      <td>NaN</td>\n",
       "      <td>...</td>\n",
       "      <td>0.0</td>\n",
       "      <td>0.0</td>\n",
       "      <td>0.0</td>\n",
       "      <td>0.0</td>\n",
       "      <td>0.0</td>\n",
       "      <td>0.066</td>\n",
       "      <td>0.277</td>\n",
       "      <td>0.638</td>\n",
       "      <td>7.0</td>\n",
       "      <td>C</td>\n",
       "    </tr>\n",
       "  </tbody>\n",
       "</table>\n",
       "<p>5 rows × 72 columns</p>\n",
       "</div>"
      ],
      "text/plain": [
       "   index             Name   Tm   BA  BABIP      BIP  Games_played_to_date   \n",
       "0      0  Travis d'Arnaud  NaN  0.0    0.0  0.33333                     1  \\\n",
       "1      1  Travis d'Arnaud  NYM  0.0    0.0  0.50000                     2   \n",
       "2      2  Travis d'Arnaud  NaN  0.0    0.0  0.44444                     3   \n",
       "3      3  Travis d'Arnaud  NaN  0.0    0.0  0.50000                     4   \n",
       "4      4  Travis d'Arnaud  NYM  0.0    0.0  0.60000                     5   \n",
       "\n",
       "   ISO  LA_avg  LA_median  ...  X3B   HR  RBI   BB   SO    WPA   RE24    aLI   \n",
       "0  0.0     NaN        NaN  ...  NaN  NaN  NaN  NaN  NaN    NaN    NaN    NaN  \\\n",
       "1  0.0     NaN        NaN  ...  0.0  0.0  0.0  1.0  2.0 -0.037 -0.425  0.870   \n",
       "2  0.0     NaN        NaN  ...  NaN  NaN  NaN  NaN  NaN    NaN    NaN    NaN   \n",
       "3  0.0     NaN        NaN  ...  NaN  NaN  NaN  NaN  NaN    NaN    NaN    NaN   \n",
       "4  0.0     NaN        NaN  ...  0.0  0.0  0.0  0.0  0.0  0.066  0.277  0.638   \n",
       "\n",
       "   BOP  Pos.Summary  \n",
       "0  NaN          NaN  \n",
       "1  7.0            C  \n",
       "2  NaN          NaN  \n",
       "3  NaN          NaN  \n",
       "4  7.0            C  \n",
       "\n",
       "[5 rows x 72 columns]"
      ]
     },
     "execution_count": 10,
     "metadata": {},
     "output_type": "execute_result"
    }
   ],
   "source": [
    "#df = pd.read_csv('merged_data.csv')\n",
    "df = pd.read_csv('./data/aggregate_stats_v2.csv')\n",
    "df = df.drop(['Unnamed: 0'], axis = 1)\n",
    "#df = df.drop(['Unnamed: 0.1'], axis = 1)\n",
    "df.head()"
   ]
  },
  {
   "cell_type": "code",
   "execution_count": 14,
   "metadata": {},
   "outputs": [
    {
     "data": {
      "text/plain": [
       "72"
      ]
     },
     "execution_count": 14,
     "metadata": {},
     "output_type": "execute_result"
    }
   ],
   "source": [
    "len(df.columns.values)"
   ]
  },
  {
   "cell_type": "code",
   "execution_count": 13,
   "metadata": {},
   "outputs": [
    {
     "name": "stdout",
     "output_type": "stream",
     "text": [
      "index\n",
      "Name\n",
      "Tm\n",
      "BA\n",
      "BABIP\n",
      "BIP\n",
      "Games_played_to_date\n",
      "ISO\n",
      "LA_avg\n",
      "LA_median\n",
      "OBP\n",
      "OPS\n",
      "PA\n",
      "SLG\n",
      "Walks\n",
      "mlbam_code\n",
      "FT_percentage_hits\n",
      "pHitsByZone5\n",
      "Weak_lsa_p\n",
      "Topped_lsa_p\n",
      "Under_lsa_p\n",
      "Flare/Burner_lsa_p\n",
      "SolidContact_lsa_p\n",
      "Barrel_lsa_p\n",
      "FF_percentage_hits\n",
      "FC_percentage_hits\n",
      "SI_percentage_hits\n",
      "pHitsByZone2\n",
      "pHitsByZone4\n",
      "pHitsByZone14\n",
      "CH_percentage_hits\n",
      "SL_percentage_hits\n",
      "pHitsByZone1\n",
      "pHitsByZone13\n",
      "pHitsByZone6\n",
      "KC_percentage_hits\n",
      "pHitsByZone7\n",
      "pHitsByZone9\n",
      "CU_percentage_hits\n",
      "FS_percentage_hits\n",
      "pHitsByZone8\n",
      "pHitsByZone12\n",
      "pHitsByZone3\n",
      "pHitsByZone11\n",
      "FO_percentage_hits\n",
      "KN_percentage_hits\n",
      "FA_percentage_hits\n",
      "EP_percentage_hits\n",
      "SC_percentage_hits\n",
      "key\n",
      "next_game_BA\n",
      "next_game_Name\n",
      "next_game_Date\n",
      "next_game_Key\n",
      "Player\n",
      "Date\n",
      "Opp\n",
      "PAagg\n",
      "AB\n",
      "R\n",
      "H\n",
      "X2B\n",
      "X3B\n",
      "HR\n",
      "RBI\n",
      "BB\n",
      "SO\n",
      "WPA\n",
      "RE24\n",
      "aLI\n",
      "BOP\n",
      "Pos.Summary\n"
     ]
    }
   ],
   "source": [
    "for value in df.columns.values:\n",
    "    print(value)"
   ]
  },
  {
   "cell_type": "code",
   "execution_count": 11,
   "metadata": {},
   "outputs": [
    {
     "ename": "KeyError",
     "evalue": "\"['hitter_R%', 'Weather (Degrees)', 'Wind (MPH)', 'Area_stand', 'Altitude', 'RUNS', 'pitches_per_appearance_avg', 'strikeout_percentage', 'hip_last_three', 'ground_ball_percentage', 'Strikes_Swinging'] not in index\"",
     "output_type": "error",
     "traceback": [
      "\u001b[0;31m---------------------------------------------------------------------------\u001b[0m",
      "\u001b[0;31mKeyError\u001b[0m                                  Traceback (most recent call last)",
      "Cell \u001b[0;32mIn[11], line 1\u001b[0m\n\u001b[0;32m----> 1\u001b[0m train \u001b[39m=\u001b[39m df[[\u001b[39m\"\u001b[39;49m\u001b[39mPA\u001b[39;49m\u001b[39m\"\u001b[39;49m,\u001b[39m\"\u001b[39;49m\u001b[39mBA\u001b[39;49m\u001b[39m\"\u001b[39;49m,\u001b[39m\"\u001b[39;49m\u001b[39mpHitsByZone3\u001b[39;49m\u001b[39m\"\u001b[39;49m, \u001b[39m\"\u001b[39;49m\u001b[39mhitter_R\u001b[39;49m\u001b[39m%\u001b[39;49m\u001b[39m\"\u001b[39;49m, \u001b[39m\"\u001b[39;49m\u001b[39mBIP\u001b[39;49m\u001b[39m\"\u001b[39;49m, \u001b[39m\"\u001b[39;49m\u001b[39mBABIP\u001b[39;49m\u001b[39m\"\u001b[39;49m, \u001b[39m\"\u001b[39;49m\u001b[39mLA_median\u001b[39;49m\u001b[39m\"\u001b[39;49m, \u001b[39m\"\u001b[39;49m\u001b[39mWeather (Degrees)\u001b[39;49m\u001b[39m\"\u001b[39;49m, \u001b[39m\"\u001b[39;49m\u001b[39mWind (MPH)\u001b[39;49m\u001b[39m\"\u001b[39;49m, \u001b[39m\"\u001b[39;49m\u001b[39mArea_stand\u001b[39;49m\u001b[39m\"\u001b[39;49m, \n\u001b[1;32m      2\u001b[0m             \u001b[39m\"\u001b[39;49m\u001b[39mAltitude\u001b[39;49m\u001b[39m\"\u001b[39;49m, \u001b[39m\"\u001b[39;49m\u001b[39mH\u001b[39;49m\u001b[39m\"\u001b[39;49m, \u001b[39m\"\u001b[39;49m\u001b[39mRUNS\u001b[39;49m\u001b[39m\"\u001b[39;49m, \u001b[39m\"\u001b[39;49m\u001b[39mpitches_per_appearance_avg\u001b[39;49m\u001b[39m\"\u001b[39;49m, \u001b[39m\"\u001b[39;49m\u001b[39mstrikeout_percentage\u001b[39;49m\u001b[39m\"\u001b[39;49m, \u001b[39m\"\u001b[39;49m\u001b[39mhip_last_three\u001b[39;49m\u001b[39m\"\u001b[39;49m, \n\u001b[1;32m      3\u001b[0m             \u001b[39m\"\u001b[39;49m\u001b[39mground_ball_percentage\u001b[39;49m\u001b[39m\"\u001b[39;49m, \u001b[39m\"\u001b[39;49m\u001b[39mStrikes_Swinging\u001b[39;49m\u001b[39m\"\u001b[39;49m]]\n\u001b[1;32m      4\u001b[0m test \u001b[39m=\u001b[39m df[[\u001b[39m'\u001b[39m\u001b[39mnext_game_HIT\u001b[39m\u001b[39m'\u001b[39m]]\n",
      "File \u001b[0;32m~/.venv/mlb_hit_predictor/lib/python3.9/site-packages/pandas/core/frame.py:3767\u001b[0m, in \u001b[0;36mDataFrame.__getitem__\u001b[0;34m(self, key)\u001b[0m\n\u001b[1;32m   3765\u001b[0m     \u001b[39mif\u001b[39;00m is_iterator(key):\n\u001b[1;32m   3766\u001b[0m         key \u001b[39m=\u001b[39m \u001b[39mlist\u001b[39m(key)\n\u001b[0;32m-> 3767\u001b[0m     indexer \u001b[39m=\u001b[39m \u001b[39mself\u001b[39;49m\u001b[39m.\u001b[39;49mcolumns\u001b[39m.\u001b[39;49m_get_indexer_strict(key, \u001b[39m\"\u001b[39;49m\u001b[39mcolumns\u001b[39;49m\u001b[39m\"\u001b[39;49m)[\u001b[39m1\u001b[39m]\n\u001b[1;32m   3769\u001b[0m \u001b[39m# take() does not accept boolean indexers\u001b[39;00m\n\u001b[1;32m   3770\u001b[0m \u001b[39mif\u001b[39;00m \u001b[39mgetattr\u001b[39m(indexer, \u001b[39m\"\u001b[39m\u001b[39mdtype\u001b[39m\u001b[39m\"\u001b[39m, \u001b[39mNone\u001b[39;00m) \u001b[39m==\u001b[39m \u001b[39mbool\u001b[39m:\n",
      "File \u001b[0;32m~/.venv/mlb_hit_predictor/lib/python3.9/site-packages/pandas/core/indexes/base.py:5876\u001b[0m, in \u001b[0;36mIndex._get_indexer_strict\u001b[0;34m(self, key, axis_name)\u001b[0m\n\u001b[1;32m   5873\u001b[0m \u001b[39melse\u001b[39;00m:\n\u001b[1;32m   5874\u001b[0m     keyarr, indexer, new_indexer \u001b[39m=\u001b[39m \u001b[39mself\u001b[39m\u001b[39m.\u001b[39m_reindex_non_unique(keyarr)\n\u001b[0;32m-> 5876\u001b[0m \u001b[39mself\u001b[39;49m\u001b[39m.\u001b[39;49m_raise_if_missing(keyarr, indexer, axis_name)\n\u001b[1;32m   5878\u001b[0m keyarr \u001b[39m=\u001b[39m \u001b[39mself\u001b[39m\u001b[39m.\u001b[39mtake(indexer)\n\u001b[1;32m   5879\u001b[0m \u001b[39mif\u001b[39;00m \u001b[39misinstance\u001b[39m(key, Index):\n\u001b[1;32m   5880\u001b[0m     \u001b[39m# GH 42790 - Preserve name from an Index\u001b[39;00m\n",
      "File \u001b[0;32m~/.venv/mlb_hit_predictor/lib/python3.9/site-packages/pandas/core/indexes/base.py:5938\u001b[0m, in \u001b[0;36mIndex._raise_if_missing\u001b[0;34m(self, key, indexer, axis_name)\u001b[0m\n\u001b[1;32m   5935\u001b[0m     \u001b[39mraise\u001b[39;00m \u001b[39mKeyError\u001b[39;00m(\u001b[39mf\u001b[39m\u001b[39m\"\u001b[39m\u001b[39mNone of [\u001b[39m\u001b[39m{\u001b[39;00mkey\u001b[39m}\u001b[39;00m\u001b[39m] are in the [\u001b[39m\u001b[39m{\u001b[39;00maxis_name\u001b[39m}\u001b[39;00m\u001b[39m]\u001b[39m\u001b[39m\"\u001b[39m)\n\u001b[1;32m   5937\u001b[0m not_found \u001b[39m=\u001b[39m \u001b[39mlist\u001b[39m(ensure_index(key)[missing_mask\u001b[39m.\u001b[39mnonzero()[\u001b[39m0\u001b[39m]]\u001b[39m.\u001b[39munique())\n\u001b[0;32m-> 5938\u001b[0m \u001b[39mraise\u001b[39;00m \u001b[39mKeyError\u001b[39;00m(\u001b[39mf\u001b[39m\u001b[39m\"\u001b[39m\u001b[39m{\u001b[39;00mnot_found\u001b[39m}\u001b[39;00m\u001b[39m not in index\u001b[39m\u001b[39m\"\u001b[39m)\n",
      "\u001b[0;31mKeyError\u001b[0m: \"['hitter_R%', 'Weather (Degrees)', 'Wind (MPH)', 'Area_stand', 'Altitude', 'RUNS', 'pitches_per_appearance_avg', 'strikeout_percentage', 'hip_last_three', 'ground_ball_percentage', 'Strikes_Swinging'] not in index\""
     ]
    }
   ],
   "source": [
    "train = df[[\"PA\",\"BA\",\"pHitsByZone3\", \"hitter_R%\", \"BIP\", \"BABIP\", \"LA_median\", \"Weather (Degrees)\", \"Wind (MPH)\", \"Area_stand\", \n",
    "            \"Altitude\", \"H\", \"RUNS\", \"pitches_per_appearance_avg\", \"strikeout_percentage\", \"hip_last_three\", \n",
    "            \"ground_ball_percentage\", \"Strikes_Swinging\"]]\n",
    "test = df[['next_game_HIT']]"
   ]
  },
  {
   "cell_type": "code",
   "execution_count": 22,
   "metadata": {},
   "outputs": [
    {
     "name": "stdout",
     "output_type": "stream",
     "text": [
      "pHitsByZone3\n"
     ]
    }
   ],
   "source": [
    "for i in train.columns:    \n",
    "    if (train.shape[0] - train[i].count()) / train.shape[0] > .3:\n",
    "        print (i)\n",
    "        train = train.drop([i], axis = 1)"
   ]
  },
  {
   "cell_type": "code",
   "execution_count": 23,
   "metadata": {},
   "outputs": [
    {
     "data": {
      "text/plain": [
       "<matplotlib.axes._subplots.AxesSubplot at 0x19a4a141648>"
      ]
     },
     "execution_count": 23,
     "metadata": {},
     "output_type": "execute_result"
    },
    {
     "data": {
      "image/png": "[encoded data removed]",
      "text/plain": [
       "<Figure size 432x288 with 2 Axes>"
      ]
     },
     "metadata": {
      "needs_background": "light"
     },
     "output_type": "display_data"
    }
   ],
   "source": [
    "corr = train.corr()\n",
    "sns.heatmap(corr)"
   ]
  },
  {
   "cell_type": "code",
   "execution_count": 24,
   "metadata": {},
   "outputs": [],
   "source": [
    "columns = np.full((corr.shape[0],), True, dtype=bool)\n",
    "for i in range(corr.shape[0]):\n",
    "    for j in range(i+1, corr.shape[0]):\n",
    "        if abs(corr.iloc[i,j]) >= 0.9:\n",
    "            if columns[j]:\n",
    "                columns[j] = False\n",
    "selected_columns = train.columns[columns]\n",
    "train = train[selected_columns]"
   ]
  },
  {
   "cell_type": "code",
   "execution_count": 25,
   "metadata": {},
   "outputs": [],
   "source": [
    "for i in train.columns:\n",
    "    if len(train[i].unique()) > 2:\n",
    "        train[i] = train[i].fillna(train[i].median())\n",
    "    else:\n",
    "        train[i] = train[i].fillna(train[i].mode()[0])"
   ]
  },
  {
   "cell_type": "code",
   "execution_count": 26,
   "metadata": {},
   "outputs": [],
   "source": [
    "from sklearn.model_selection import train_test_split\n",
    "from sklearn.preprocessing import StandardScaler\n",
    "\n",
    "X_train, X_test, y_train, y_test = train_test_split(train, test, test_size = 0.20, shuffle = False)\n",
    "\n",
    "scaler = StandardScaler()\n",
    "scaler.fit(X_train)\n",
    "\n",
    "X_train = scaler.transform(X_train)\n",
    "X_test = scaler.transform(X_test)"
   ]
  },
  {
   "cell_type": "code",
   "execution_count": 27,
   "metadata": {},
   "outputs": [
    {
     "name": "stdout",
     "output_type": "stream",
     "text": [
      "0.638722294654498\n",
      "[0.64857161 0.64747036 0.64805338 0.64805338 0.64809536 0.64796579\n",
      " 0.6491319  0.64841928 0.64783623 0.64770666]\n"
     ]
    }
   ],
   "source": [
    "from sklearn.linear_model import LogisticRegression\n",
    "from sklearn.metrics import precision_score\n",
    "from sklearn.model_selection import cross_val_score\n",
    "\n",
    "clf = LogisticRegression(solver = 'sag', max_iter = 3000)\n",
    "clf.fit(X_train, y_train.values.ravel())\n",
    "predictions = clf.predict(X_test)\n",
    "print (precision_score(y_test, predictions))\n",
    "scores = cross_val_score(clf, X_train, y_train.values.ravel(), cv=10)\n",
    "print (scores)"
   ]
  },
  {
   "cell_type": "code",
   "execution_count": 28,
   "metadata": {},
   "outputs": [
    {
     "data": {
      "text/plain": [
       "<matplotlib.axes._subplots.AxesSubplot at 0x19a300618c8>"
      ]
     },
     "execution_count": 28,
     "metadata": {},
     "output_type": "execute_result"
    },
    {
     "data": {
      "image/png": "[encoded data removed]",
      "text/plain": [
       "<Figure size 432x288 with 1 Axes>"
      ]
     },
     "metadata": {
      "needs_background": "light"
     },
     "output_type": "display_data"
    }
   ],
   "source": [
    "feat_importances = pd.Series(clf.coef_[0], index=train.columns)\n",
    "feat_importances.nlargest(10).plot(kind = 'barh')"
   ]
  },
  {
   "cell_type": "code",
   "execution_count": 29,
   "metadata": {},
   "outputs": [
    {
     "data": {
      "text/plain": [
       "<matplotlib.axes._subplots.AxesSubplot at 0x19a2e9611c8>"
      ]
     },
     "execution_count": 29,
     "metadata": {},
     "output_type": "execute_result"
    },
    {
     "data": {
      "image/png": "[encoded data removed]",
      "text/plain": [
       "<Figure size 1080x720 with 1 Axes>"
      ]
     },
     "metadata": {
      "needs_background": "light"
     },
     "output_type": "display_data"
    }
   ],
   "source": [
    "feat_importances.nlargest(len(feat_importances)).plot(kind = 'line', figsize = (15, 10))"
   ]
  },
  {
   "cell_type": "code",
   "execution_count": 30,
   "metadata": {},
   "outputs": [
    {
     "name": "stdout",
     "output_type": "stream",
     "text": [
      "0.6400982126356364\n",
      "[0.64824772 0.64591566 0.64753514 0.64507352 0.64692926 0.64362529\n",
      " 0.6463462  0.6459575  0.64323659 0.64880798]\n"
     ]
    }
   ],
   "source": [
    "from sklearn.linear_model import SGDClassifier\n",
    "from sklearn.metrics import precision_score\n",
    "from sklearn.model_selection import cross_val_score\n",
    "\n",
    "clf = SGDClassifier(loss=\"log\", max_iter = 3000)\n",
    "clf.fit(X_train, y_train.values.ravel())\n",
    "predictions = clf.predict(X_test)\n",
    "print (precision_score(y_test, predictions))\n",
    "scores = cross_val_score(clf, X_train, y_train.values.ravel(), cv=10)\n",
    "print (scores)"
   ]
  },
  {
   "cell_type": "code",
   "execution_count": 31,
   "metadata": {},
   "outputs": [
    {
     "data": {
      "text/plain": [
       "<matplotlib.axes._subplots.AxesSubplot at 0x19a00602cc8>"
      ]
     },
     "execution_count": 31,
     "metadata": {},
     "output_type": "execute_result"
    },
    {
     "data": {
      "image/png": "[encoded data removed]",
      "text/plain": [
       "<Figure size 432x288 with 1 Axes>"
      ]
     },
     "metadata": {
      "needs_background": "light"
     },
     "output_type": "display_data"
    }
   ],
   "source": [
    "feat_importances = pd.Series(clf.coef_[0], index=train.columns)\n",
    "feat_importances.nlargest(10).plot(kind = 'barh')"
   ]
  },
  {
   "cell_type": "code",
   "execution_count": 32,
   "metadata": {},
   "outputs": [
    {
     "data": {
      "text/plain": [
       "<matplotlib.axes._subplots.AxesSubplot at 0x19a00636a08>"
      ]
     },
     "execution_count": 32,
     "metadata": {},
     "output_type": "execute_result"
    },
    {
     "data": {
      "image/png": "[encoded data removed]",
      "text/plain": [
       "<Figure size 1080x720 with 1 Axes>"
      ]
     },
     "metadata": {
      "needs_background": "light"
     },
     "output_type": "display_data"
    }
   ],
   "source": [
    "feat_importances.nlargest(len(feat_importances)).plot(kind = 'line', figsize = (15, 10))"
   ]
  },
  {
   "cell_type": "code",
   "execution_count": 33,
   "metadata": {},
   "outputs": [
    {
     "name": "stdout",
     "output_type": "stream",
     "text": [
      "0.6450536617916921\n"
     ]
    }
   ],
   "source": [
    "from sklearn.ensemble import RandomForestClassifier\n",
    "from sklearn.metrics import precision_score\n",
    "\n",
    "clf = RandomForestClassifier()\n",
    "clf.fit(X_train, y_train.values.ravel())\n",
    "predictions = clf.predict(X_test)\n",
    "print (precision_score(y_test, predictions))"
   ]
  },
  {
   "cell_type": "code",
   "execution_count": 34,
   "metadata": {},
   "outputs": [
    {
     "data": {
      "text/plain": [
       "<matplotlib.axes._subplots.AxesSubplot at 0x19a006928c8>"
      ]
     },
     "execution_count": 34,
     "metadata": {},
     "output_type": "execute_result"
    },
    {
     "data": {
      "image/png": "[encoded data removed]",
      "text/plain": [
       "<Figure size 432x288 with 1 Axes>"
      ]
     },
     "metadata": {
      "needs_background": "light"
     },
     "output_type": "display_data"
    }
   ],
   "source": [
    "feat_importances = pd.Series(clf.feature_importances_, index=train.columns)\n",
    "feat_importances.nlargest(10).plot(kind='barh')"
   ]
  },
  {
   "cell_type": "code",
   "execution_count": 35,
   "metadata": {},
   "outputs": [
    {
     "data": {
      "text/plain": [
       "<matplotlib.axes._subplots.AxesSubplot at 0x19a006db188>"
      ]
     },
     "execution_count": 35,
     "metadata": {},
     "output_type": "execute_result"
    },
    {
     "data": {
      "image/png": "[encoded data removed]",
      "text/plain": [
       "<Figure size 1080x720 with 1 Axes>"
      ]
     },
     "metadata": {
      "needs_background": "light"
     },
     "output_type": "display_data"
    }
   ],
   "source": [
    "feat_importances.nlargest(len(feat_importances)).plot(kind='line', figsize = (15, 10))"
   ]
  },
  {
   "cell_type": "code",
   "execution_count": 36,
   "metadata": {},
   "outputs": [],
   "source": [
    "train = train.join(df['Name'])\n",
    "train = train.join(df['next_game_HIT'])\n",
    "names = train['Name'].unique().tolist()\n",
    "temp = train['Name'].value_counts().to_frame()\n",
    "temp = temp.reset_index()\n",
    "temp.columns = ['Name', 'Count']\n",
    "for i in range(len(temp)):\n",
    "    if temp.at[i, 'Count'] < 200:\n",
    "        names.remove(temp.at[i, 'Name'])"
   ]
  },
  {
   "cell_type": "code",
   "execution_count": 37,
   "metadata": {},
   "outputs": [
    {
     "data": {
      "text/html": [
       "<div>\n",
       "<style scoped>\n",
       "    .dataframe tbody tr th:only-of-type {\n",
       "        vertical-align: middle;\n",
       "    }\n",
       "\n",
       "    .dataframe tbody tr th {\n",
       "        vertical-align: top;\n",
       "    }\n",
       "\n",
       "    .dataframe thead th {\n",
       "        text-align: right;\n",
       "    }\n",
       "</style>\n",
       "<table border=\"1\" class=\"dataframe\">\n",
       "  <thead>\n",
       "    <tr style=\"text-align: right;\">\n",
       "      <th></th>\n",
       "      <th>PA</th>\n",
       "      <th>BA</th>\n",
       "      <th>hitter_R%</th>\n",
       "      <th>BIP</th>\n",
       "      <th>BABIP</th>\n",
       "      <th>LA_median</th>\n",
       "      <th>Weather (Degrees)</th>\n",
       "      <th>Wind (MPH)</th>\n",
       "      <th>Area_stand</th>\n",
       "      <th>Altitude</th>\n",
       "      <th>H</th>\n",
       "      <th>pitches_per_appearance_avg</th>\n",
       "      <th>strikeout_percentage</th>\n",
       "      <th>hip_last_three</th>\n",
       "      <th>ground_ball_percentage</th>\n",
       "      <th>Strikes_Swinging</th>\n",
       "      <th>Name</th>\n",
       "      <th>next_game_HIT</th>\n",
       "    </tr>\n",
       "  </thead>\n",
       "  <tbody>\n",
       "    <tr>\n",
       "      <th>0</th>\n",
       "      <td>4</td>\n",
       "      <td>0.00000</td>\n",
       "      <td>1.000000</td>\n",
       "      <td>0.33333</td>\n",
       "      <td>0.00000</td>\n",
       "      <td>16.60</td>\n",
       "      <td>51</td>\n",
       "      <td>4</td>\n",
       "      <td>0.219493</td>\n",
       "      <td>13.0</td>\n",
       "      <td>0.918</td>\n",
       "      <td>92.500000</td>\n",
       "      <td>0.223152</td>\n",
       "      <td>0.989011</td>\n",
       "      <td>0.350993</td>\n",
       "      <td>9.0</td>\n",
       "      <td>Travis d'Arnaud</td>\n",
       "      <td>0.0</td>\n",
       "    </tr>\n",
       "    <tr>\n",
       "      <th>1</th>\n",
       "      <td>5</td>\n",
       "      <td>0.20000</td>\n",
       "      <td>1.000000</td>\n",
       "      <td>0.60000</td>\n",
       "      <td>0.33333</td>\n",
       "      <td>16.60</td>\n",
       "      <td>51</td>\n",
       "      <td>4</td>\n",
       "      <td>0.219493</td>\n",
       "      <td>13.0</td>\n",
       "      <td>0.918</td>\n",
       "      <td>92.500000</td>\n",
       "      <td>0.223152</td>\n",
       "      <td>0.989011</td>\n",
       "      <td>0.350993</td>\n",
       "      <td>9.0</td>\n",
       "      <td>Jayson Werth</td>\n",
       "      <td>1.0</td>\n",
       "    </tr>\n",
       "    <tr>\n",
       "      <th>2</th>\n",
       "      <td>5</td>\n",
       "      <td>0.25000</td>\n",
       "      <td>1.000000</td>\n",
       "      <td>1.00000</td>\n",
       "      <td>0.25000</td>\n",
       "      <td>16.60</td>\n",
       "      <td>51</td>\n",
       "      <td>4</td>\n",
       "      <td>0.219493</td>\n",
       "      <td>13.0</td>\n",
       "      <td>0.918</td>\n",
       "      <td>92.500000</td>\n",
       "      <td>0.223152</td>\n",
       "      <td>0.989011</td>\n",
       "      <td>0.350993</td>\n",
       "      <td>9.0</td>\n",
       "      <td>Ian Desmond</td>\n",
       "      <td>1.0</td>\n",
       "    </tr>\n",
       "    <tr>\n",
       "      <th>3</th>\n",
       "      <td>5</td>\n",
       "      <td>0.25000</td>\n",
       "      <td>0.000000</td>\n",
       "      <td>0.50000</td>\n",
       "      <td>0.50000</td>\n",
       "      <td>16.60</td>\n",
       "      <td>51</td>\n",
       "      <td>4</td>\n",
       "      <td>0.219493</td>\n",
       "      <td>13.0</td>\n",
       "      <td>0.918</td>\n",
       "      <td>92.500000</td>\n",
       "      <td>0.223152</td>\n",
       "      <td>0.989011</td>\n",
       "      <td>0.350993</td>\n",
       "      <td>9.0</td>\n",
       "      <td>Bryce Harper</td>\n",
       "      <td>0.0</td>\n",
       "    </tr>\n",
       "    <tr>\n",
       "      <th>4</th>\n",
       "      <td>5</td>\n",
       "      <td>0.33333</td>\n",
       "      <td>0.000000</td>\n",
       "      <td>1.00000</td>\n",
       "      <td>0.00000</td>\n",
       "      <td>16.60</td>\n",
       "      <td>51</td>\n",
       "      <td>4</td>\n",
       "      <td>0.219493</td>\n",
       "      <td>13.0</td>\n",
       "      <td>0.918</td>\n",
       "      <td>92.500000</td>\n",
       "      <td>0.223152</td>\n",
       "      <td>0.989011</td>\n",
       "      <td>0.350993</td>\n",
       "      <td>9.0</td>\n",
       "      <td>Adam LaRoche</td>\n",
       "      <td>1.0</td>\n",
       "    </tr>\n",
       "    <tr>\n",
       "      <th>...</th>\n",
       "      <td>...</td>\n",
       "      <td>...</td>\n",
       "      <td>...</td>\n",
       "      <td>...</td>\n",
       "      <td>...</td>\n",
       "      <td>...</td>\n",
       "      <td>...</td>\n",
       "      <td>...</td>\n",
       "      <td>...</td>\n",
       "      <td>...</td>\n",
       "      <td>...</td>\n",
       "      <td>...</td>\n",
       "      <td>...</td>\n",
       "      <td>...</td>\n",
       "      <td>...</td>\n",
       "      <td>...</td>\n",
       "      <td>...</td>\n",
       "      <td>...</td>\n",
       "    </tr>\n",
       "    <tr>\n",
       "      <th>192951</th>\n",
       "      <td>70</td>\n",
       "      <td>0.24590</td>\n",
       "      <td>1.000000</td>\n",
       "      <td>0.54098</td>\n",
       "      <td>0.40000</td>\n",
       "      <td>18.80</td>\n",
       "      <td>72</td>\n",
       "      <td>0</td>\n",
       "      <td>0.136598</td>\n",
       "      <td>41.0</td>\n",
       "      <td>0.901</td>\n",
       "      <td>96.923077</td>\n",
       "      <td>0.253311</td>\n",
       "      <td>0.872093</td>\n",
       "      <td>0.238411</td>\n",
       "      <td>7.0</td>\n",
       "      <td>Drew Stubbs</td>\n",
       "      <td>1.0</td>\n",
       "    </tr>\n",
       "    <tr>\n",
       "      <th>192952</th>\n",
       "      <td>143</td>\n",
       "      <td>0.28346</td>\n",
       "      <td>0.201728</td>\n",
       "      <td>0.73846</td>\n",
       "      <td>0.34066</td>\n",
       "      <td>24.55</td>\n",
       "      <td>72</td>\n",
       "      <td>0</td>\n",
       "      <td>0.136598</td>\n",
       "      <td>41.0</td>\n",
       "      <td>0.901</td>\n",
       "      <td>49.187500</td>\n",
       "      <td>0.244957</td>\n",
       "      <td>0.789474</td>\n",
       "      <td>0.285303</td>\n",
       "      <td>9.0</td>\n",
       "      <td>Nick Franklin</td>\n",
       "      <td>1.0</td>\n",
       "    </tr>\n",
       "    <tr>\n",
       "      <th>192953</th>\n",
       "      <td>349</td>\n",
       "      <td>0.26250</td>\n",
       "      <td>1.000000</td>\n",
       "      <td>0.85231</td>\n",
       "      <td>0.28253</td>\n",
       "      <td>16.30</td>\n",
       "      <td>72</td>\n",
       "      <td>0</td>\n",
       "      <td>0.136598</td>\n",
       "      <td>41.0</td>\n",
       "      <td>0.901</td>\n",
       "      <td>96.923077</td>\n",
       "      <td>0.253311</td>\n",
       "      <td>0.872093</td>\n",
       "      <td>0.238411</td>\n",
       "      <td>7.0</td>\n",
       "      <td>J. J. Hardy</td>\n",
       "      <td>1.0</td>\n",
       "    </tr>\n",
       "    <tr>\n",
       "      <th>192954</th>\n",
       "      <td>125</td>\n",
       "      <td>0.19298</td>\n",
       "      <td>1.000000</td>\n",
       "      <td>0.77966</td>\n",
       "      <td>0.23913</td>\n",
       "      <td>18.90</td>\n",
       "      <td>72</td>\n",
       "      <td>0</td>\n",
       "      <td>0.136598</td>\n",
       "      <td>41.0</td>\n",
       "      <td>0.901</td>\n",
       "      <td>96.923077</td>\n",
       "      <td>0.253311</td>\n",
       "      <td>0.872093</td>\n",
       "      <td>0.238411</td>\n",
       "      <td>7.0</td>\n",
       "      <td>Caleb Joseph</td>\n",
       "      <td>0.0</td>\n",
       "    </tr>\n",
       "    <tr>\n",
       "      <th>192955</th>\n",
       "      <td>551</td>\n",
       "      <td>0.27500</td>\n",
       "      <td>1.000000</td>\n",
       "      <td>0.78585</td>\n",
       "      <td>0.31282</td>\n",
       "      <td>16.50</td>\n",
       "      <td>72</td>\n",
       "      <td>0</td>\n",
       "      <td>0.136598</td>\n",
       "      <td>41.0</td>\n",
       "      <td>0.901</td>\n",
       "      <td>96.923077</td>\n",
       "      <td>0.253311</td>\n",
       "      <td>0.872093</td>\n",
       "      <td>0.238411</td>\n",
       "      <td>7.0</td>\n",
       "      <td>Jonathan Schoop</td>\n",
       "      <td>1.0</td>\n",
       "    </tr>\n",
       "  </tbody>\n",
       "</table>\n",
       "<p>192956 rows × 18 columns</p>\n",
       "</div>"
      ],
      "text/plain": [
       "         PA       BA  hitter_R%      BIP    BABIP  LA_median  \\\n",
       "0         4  0.00000   1.000000  0.33333  0.00000      16.60   \n",
       "1         5  0.20000   1.000000  0.60000  0.33333      16.60   \n",
       "2         5  0.25000   1.000000  1.00000  0.25000      16.60   \n",
       "3         5  0.25000   0.000000  0.50000  0.50000      16.60   \n",
       "4         5  0.33333   0.000000  1.00000  0.00000      16.60   \n",
       "...     ...      ...        ...      ...      ...        ...   \n",
       "192951   70  0.24590   1.000000  0.54098  0.40000      18.80   \n",
       "192952  143  0.28346   0.201728  0.73846  0.34066      24.55   \n",
       "192953  349  0.26250   1.000000  0.85231  0.28253      16.30   \n",
       "192954  125  0.19298   1.000000  0.77966  0.23913      18.90   \n",
       "192955  551  0.27500   1.000000  0.78585  0.31282      16.50   \n",
       "\n",
       "        Weather (Degrees)  Wind (MPH)  Area_stand  Altitude      H  \\\n",
       "0                      51           4    0.219493      13.0  0.918   \n",
       "1                      51           4    0.219493      13.0  0.918   \n",
       "2                      51           4    0.219493      13.0  0.918   \n",
       "3                      51           4    0.219493      13.0  0.918   \n",
       "4                      51           4    0.219493      13.0  0.918   \n",
       "...                   ...         ...         ...       ...    ...   \n",
       "192951                 72           0    0.136598      41.0  0.901   \n",
       "192952                 72           0    0.136598      41.0  0.901   \n",
       "192953                 72           0    0.136598      41.0  0.901   \n",
       "192954                 72           0    0.136598      41.0  0.901   \n",
       "192955                 72           0    0.136598      41.0  0.901   \n",
       "\n",
       "        pitches_per_appearance_avg  strikeout_percentage  hip_last_three  \\\n",
       "0                        92.500000              0.223152        0.989011   \n",
       "1                        92.500000              0.223152        0.989011   \n",
       "2                        92.500000              0.223152        0.989011   \n",
       "3                        92.500000              0.223152        0.989011   \n",
       "4                        92.500000              0.223152        0.989011   \n",
       "...                            ...                   ...             ...   \n",
       "192951                   96.923077              0.253311        0.872093   \n",
       "192952                   49.187500              0.244957        0.789474   \n",
       "192953                   96.923077              0.253311        0.872093   \n",
       "192954                   96.923077              0.253311        0.872093   \n",
       "192955                   96.923077              0.253311        0.872093   \n",
       "\n",
       "        ground_ball_percentage  Strikes_Swinging             Name  \\\n",
       "0                     0.350993               9.0  Travis d'Arnaud   \n",
       "1                     0.350993               9.0     Jayson Werth   \n",
       "2                     0.350993               9.0      Ian Desmond   \n",
       "3                     0.350993               9.0     Bryce Harper   \n",
       "4                     0.350993               9.0     Adam LaRoche   \n",
       "...                        ...               ...              ...   \n",
       "192951                0.238411               7.0      Drew Stubbs   \n",
       "192952                0.285303               9.0    Nick Franklin   \n",
       "192953                0.238411               7.0      J. J. Hardy   \n",
       "192954                0.238411               7.0     Caleb Joseph   \n",
       "192955                0.238411               7.0  Jonathan Schoop   \n",
       "\n",
       "        next_game_HIT  \n",
       "0                 0.0  \n",
       "1                 1.0  \n",
       "2                 1.0  \n",
       "3                 0.0  \n",
       "4                 1.0  \n",
       "...               ...  \n",
       "192951            1.0  \n",
       "192952            1.0  \n",
       "192953            1.0  \n",
       "192954            0.0  \n",
       "192955            1.0  \n",
       "\n",
       "[192956 rows x 18 columns]"
      ]
     },
     "execution_count": 37,
     "metadata": {},
     "output_type": "execute_result"
    }
   ],
   "source": [
    "train"
   ]
  },
  {
   "cell_type": "code",
   "execution_count": 38,
   "metadata": {},
   "outputs": [
    {
     "data": {
      "text/plain": [
       "717"
      ]
     },
     "execution_count": 38,
     "metadata": {},
     "output_type": "execute_result"
    }
   ],
   "source": [
    "len(df['Name'].unique()) - len(names)"
   ]
  },
  {
   "cell_type": "code",
   "execution_count": 39,
   "metadata": {},
   "outputs": [
    {
     "data": {
      "text/plain": [
       "0.32358490566037734"
      ]
     },
     "execution_count": 39,
     "metadata": {},
     "output_type": "execute_result"
    }
   ],
   "source": [
    "len(names) / len(df['Name'].unique()) "
   ]
  },
  {
   "cell_type": "code",
   "execution_count": 40,
   "metadata": {},
   "outputs": [
    {
     "data": {
      "text/html": [
       "<div>\n",
       "<style scoped>\n",
       "    .dataframe tbody tr th:only-of-type {\n",
       "        vertical-align: middle;\n",
       "    }\n",
       "\n",
       "    .dataframe tbody tr th {\n",
       "        vertical-align: top;\n",
       "    }\n",
       "\n",
       "    .dataframe thead th {\n",
       "        text-align: right;\n",
       "    }\n",
       "</style>\n",
       "<table border=\"1\" class=\"dataframe\">\n",
       "  <thead>\n",
       "    <tr style=\"text-align: right;\">\n",
       "      <th></th>\n",
       "      <th>Name</th>\n",
       "      <th>Samples</th>\n",
       "      <th>LR</th>\n",
       "      <th>SGD</th>\n",
       "      <th>RF</th>\n",
       "    </tr>\n",
       "  </thead>\n",
       "  <tbody>\n",
       "    <tr>\n",
       "      <th>0</th>\n",
       "      <td>Travis d'Arnaud</td>\n",
       "      <td>365.0</td>\n",
       "      <td>0.703704</td>\n",
       "      <td>0.774194</td>\n",
       "      <td>0.719298</td>\n",
       "    </tr>\n",
       "    <tr>\n",
       "      <th>1</th>\n",
       "      <td>Jayson Werth</td>\n",
       "      <td>376.0</td>\n",
       "      <td>0.611111</td>\n",
       "      <td>0.620690</td>\n",
       "      <td>0.608696</td>\n",
       "    </tr>\n",
       "    <tr>\n",
       "      <th>2</th>\n",
       "      <td>Ian Desmond</td>\n",
       "      <td>649.0</td>\n",
       "      <td>0.658730</td>\n",
       "      <td>0.585714</td>\n",
       "      <td>0.707071</td>\n",
       "    </tr>\n",
       "    <tr>\n",
       "      <th>3</th>\n",
       "      <td>Bryce Harper</td>\n",
       "      <td>728.0</td>\n",
       "      <td>0.623288</td>\n",
       "      <td>0.604167</td>\n",
       "      <td>0.646154</td>\n",
       "    </tr>\n",
       "    <tr>\n",
       "      <th>4</th>\n",
       "      <td>Juan Lagares</td>\n",
       "      <td>335.0</td>\n",
       "      <td>0.519231</td>\n",
       "      <td>0.459016</td>\n",
       "      <td>0.513514</td>\n",
       "    </tr>\n",
       "  </tbody>\n",
       "</table>\n",
       "</div>"
      ],
      "text/plain": [
       "              Name  Samples        LR       SGD        RF\n",
       "0  Travis d'Arnaud    365.0  0.703704  0.774194  0.719298\n",
       "1     Jayson Werth    376.0  0.611111  0.620690  0.608696\n",
       "2      Ian Desmond    649.0  0.658730  0.585714  0.707071\n",
       "3     Bryce Harper    728.0  0.623288  0.604167  0.646154\n",
       "4     Juan Lagares    335.0  0.519231  0.459016  0.513514"
      ]
     },
     "execution_count": 40,
     "metadata": {},
     "output_type": "execute_result"
    }
   ],
   "source": [
    "players = pd.DataFrame()\n",
    "\n",
    "count = 0\n",
    "\n",
    "for name in names:\n",
    "    \n",
    "    players.at[count, 'Name'] = name\n",
    "    \n",
    "    train2 = train[train['Name'] == name]\n",
    "    train2 = train2.drop(['Name'], axis = 1)\n",
    "    test2 = train2['next_game_HIT']\n",
    "    train2 = train2.drop(['next_game_HIT'], axis = 1)\n",
    "    \n",
    "    players.at[count, 'Samples'] = train2.shape[0]\n",
    "    \n",
    "    from sklearn.model_selection import train_test_split\n",
    "    from sklearn.preprocessing import StandardScaler\n",
    "\n",
    "    X_train, X_test, y_train, y_test = train_test_split(train2, test2, test_size = 0.20, shuffle = False)\n",
    "\n",
    "    scaler = StandardScaler()\n",
    "    scaler.fit(X_train)\n",
    "\n",
    "    X_train = scaler.transform(X_train)\n",
    "    X_test = scaler.transform(X_test)\n",
    "\n",
    "    from sklearn.linear_model import LogisticRegression\n",
    "    from sklearn.metrics import precision_score\n",
    "    \n",
    "    clf = LogisticRegression(solver = 'sag', max_iter = 3000)\n",
    "    clf.fit(X_train, y_train.values.ravel())\n",
    "    predictions = clf.predict(X_test)\n",
    "    players.at[count, 'LR'] = precision_score(y_test, predictions)\n",
    "    \n",
    "    from sklearn.linear_model import SGDClassifier\n",
    "    from sklearn.metrics import precision_score\n",
    "    \n",
    "    clf = SGDClassifier(loss = 'log', max_iter = 3000)\n",
    "    clf.fit(X_train, y_train.values.ravel())\n",
    "    predictions = clf.predict(X_test)\n",
    "    players.at[count, 'SGD'] = precision_score(y_test, predictions)\n",
    "    \n",
    "    from sklearn.ensemble import RandomForestClassifier\n",
    "    from sklearn.metrics import precision_score\n",
    "    \n",
    "    clf = RandomForestClassifier()\n",
    "    clf.fit(X_train, y_train.values.ravel())\n",
    "    predictions = clf.predict(X_test)\n",
    "    players.at[count, 'RF'] = precision_score(y_test, predictions) \n",
    "    \n",
    "    count += 1\n",
    "               \n",
    "players.head()"
   ]
  },
  {
   "cell_type": "code",
   "execution_count": 41,
   "metadata": {},
   "outputs": [
    {
     "name": "stdout",
     "output_type": "stream",
     "text": [
      "LR: 0.6417963333415205\n",
      "SGD: 0.6341333298839437\n",
      "RF: 0.6444266442273259\n"
     ]
    }
   ],
   "source": [
    "print ('LR: ' + str(players['LR'].mean()))\n",
    "print ('SGD: ' + str(players['SGD'].mean()))\n",
    "print ('RF: ' + str(players['RF'].mean()))"
   ]
  },
  {
   "cell_type": "code",
   "execution_count": 42,
   "metadata": {},
   "outputs": [
    {
     "name": "stdout",
     "output_type": "stream",
     "text": [
      "LR Top 100: 0.7312392651822698\n",
      "SGD Top 100: 0.7306917335578546\n",
      "RF Top 100: 0.7312046922918374\n"
     ]
    }
   ],
   "source": [
    "print ('LR Top 100: ' + str(players.sort_values(by = 'LR', ascending = False).head(100)['LR'].mean()))\n",
    "print ('SGD Top 100: ' + str(players.sort_values(by = 'SGD', ascending = False).head(100)['SGD'].mean()))\n",
    "print ('RF Top 100: ' + str(players.sort_values(by = 'RF', ascending = False).head(100)['RF'].mean()))"
   ]
  },
  {
   "cell_type": "code",
   "execution_count": 43,
   "metadata": {},
   "outputs": [
    {
     "data": {
      "text/html": [
       "<div>\n",
       "<style scoped>\n",
       "    .dataframe tbody tr th:only-of-type {\n",
       "        vertical-align: middle;\n",
       "    }\n",
       "\n",
       "    .dataframe tbody tr th {\n",
       "        vertical-align: top;\n",
       "    }\n",
       "\n",
       "    .dataframe thead th {\n",
       "        text-align: right;\n",
       "    }\n",
       "</style>\n",
       "<table border=\"1\" class=\"dataframe\">\n",
       "  <thead>\n",
       "    <tr style=\"text-align: right;\">\n",
       "      <th></th>\n",
       "      <th>Name</th>\n",
       "      <th>Samples</th>\n",
       "      <th>LR</th>\n",
       "      <th>SGD</th>\n",
       "      <th>RF</th>\n",
       "    </tr>\n",
       "  </thead>\n",
       "  <tbody>\n",
       "    <tr>\n",
       "      <th>295</th>\n",
       "      <td>Whit Merrifield</td>\n",
       "      <td>502.0</td>\n",
       "      <td>0.811881</td>\n",
       "      <td>0.782609</td>\n",
       "      <td>0.808081</td>\n",
       "    </tr>\n",
       "    <tr>\n",
       "      <th>18</th>\n",
       "      <td>Paul Goldschmidt</td>\n",
       "      <td>807.0</td>\n",
       "      <td>0.791139</td>\n",
       "      <td>0.789474</td>\n",
       "      <td>0.776978</td>\n",
       "    </tr>\n",
       "    <tr>\n",
       "      <th>101</th>\n",
       "      <td>Dee Gordon</td>\n",
       "      <td>649.0</td>\n",
       "      <td>0.789062</td>\n",
       "      <td>0.720588</td>\n",
       "      <td>0.801653</td>\n",
       "    </tr>\n",
       "    <tr>\n",
       "      <th>99</th>\n",
       "      <td>Nick Markakis</td>\n",
       "      <td>678.0</td>\n",
       "      <td>0.779412</td>\n",
       "      <td>0.803922</td>\n",
       "      <td>0.761905</td>\n",
       "    </tr>\n",
       "    <tr>\n",
       "      <th>285</th>\n",
       "      <td>Jose Altuve</td>\n",
       "      <td>717.0</td>\n",
       "      <td>0.777778</td>\n",
       "      <td>0.761062</td>\n",
       "      <td>0.772059</td>\n",
       "    </tr>\n",
       "  </tbody>\n",
       "</table>\n",
       "</div>"
      ],
      "text/plain": [
       "                 Name  Samples        LR       SGD        RF\n",
       "295   Whit Merrifield    502.0  0.811881  0.782609  0.808081\n",
       "18   Paul Goldschmidt    807.0  0.791139  0.789474  0.776978\n",
       "101        Dee Gordon    649.0  0.789062  0.720588  0.801653\n",
       "99      Nick Markakis    678.0  0.779412  0.803922  0.761905\n",
       "285       Jose Altuve    717.0  0.777778  0.761062  0.772059"
      ]
     },
     "execution_count": 43,
     "metadata": {},
     "output_type": "execute_result"
    }
   ],
   "source": [
    "players.sort_values(by = 'LR', ascending = False).head()"
   ]
  },
  {
   "cell_type": "code",
   "execution_count": 44,
   "metadata": {},
   "outputs": [
    {
     "data": {
      "text/html": [
       "<div>\n",
       "<style scoped>\n",
       "    .dataframe tbody tr th:only-of-type {\n",
       "        vertical-align: middle;\n",
       "    }\n",
       "\n",
       "    .dataframe tbody tr th {\n",
       "        vertical-align: top;\n",
       "    }\n",
       "\n",
       "    .dataframe thead th {\n",
       "        text-align: right;\n",
       "    }\n",
       "</style>\n",
       "<table border=\"1\" class=\"dataframe\">\n",
       "  <thead>\n",
       "    <tr style=\"text-align: right;\">\n",
       "      <th></th>\n",
       "      <th>Name</th>\n",
       "      <th>Samples</th>\n",
       "      <th>LR</th>\n",
       "      <th>SGD</th>\n",
       "      <th>RF</th>\n",
       "    </tr>\n",
       "  </thead>\n",
       "  <tbody>\n",
       "    <tr>\n",
       "      <th>99</th>\n",
       "      <td>Nick Markakis</td>\n",
       "      <td>678.0</td>\n",
       "      <td>0.779412</td>\n",
       "      <td>0.803922</td>\n",
       "      <td>0.761905</td>\n",
       "    </tr>\n",
       "    <tr>\n",
       "      <th>251</th>\n",
       "      <td>Willy Adames</td>\n",
       "      <td>216.0</td>\n",
       "      <td>0.771429</td>\n",
       "      <td>0.791667</td>\n",
       "      <td>0.648649</td>\n",
       "    </tr>\n",
       "    <tr>\n",
       "      <th>18</th>\n",
       "      <td>Paul Goldschmidt</td>\n",
       "      <td>807.0</td>\n",
       "      <td>0.791139</td>\n",
       "      <td>0.789474</td>\n",
       "      <td>0.776978</td>\n",
       "    </tr>\n",
       "    <tr>\n",
       "      <th>241</th>\n",
       "      <td>Jorge Polanco</td>\n",
       "      <td>393.0</td>\n",
       "      <td>0.769231</td>\n",
       "      <td>0.784314</td>\n",
       "      <td>0.746479</td>\n",
       "    </tr>\n",
       "    <tr>\n",
       "      <th>322</th>\n",
       "      <td>Carlos Correa</td>\n",
       "      <td>437.0</td>\n",
       "      <td>0.746835</td>\n",
       "      <td>0.783784</td>\n",
       "      <td>0.760000</td>\n",
       "    </tr>\n",
       "  </tbody>\n",
       "</table>\n",
       "</div>"
      ],
      "text/plain": [
       "                 Name  Samples        LR       SGD        RF\n",
       "99      Nick Markakis    678.0  0.779412  0.803922  0.761905\n",
       "251      Willy Adames    216.0  0.771429  0.791667  0.648649\n",
       "18   Paul Goldschmidt    807.0  0.791139  0.789474  0.776978\n",
       "241     Jorge Polanco    393.0  0.769231  0.784314  0.746479\n",
       "322     Carlos Correa    437.0  0.746835  0.783784  0.760000"
      ]
     },
     "execution_count": 44,
     "metadata": {},
     "output_type": "execute_result"
    }
   ],
   "source": [
    "players.sort_values(by = 'SGD', ascending = False).head()"
   ]
  },
  {
   "cell_type": "code",
   "execution_count": 45,
   "metadata": {},
   "outputs": [
    {
     "data": {
      "text/html": [
       "<div>\n",
       "<style scoped>\n",
       "    .dataframe tbody tr th:only-of-type {\n",
       "        vertical-align: middle;\n",
       "    }\n",
       "\n",
       "    .dataframe tbody tr th {\n",
       "        vertical-align: top;\n",
       "    }\n",
       "\n",
       "    .dataframe thead th {\n",
       "        text-align: right;\n",
       "    }\n",
       "</style>\n",
       "<table border=\"1\" class=\"dataframe\">\n",
       "  <thead>\n",
       "    <tr style=\"text-align: right;\">\n",
       "      <th></th>\n",
       "      <th>Name</th>\n",
       "      <th>Samples</th>\n",
       "      <th>LR</th>\n",
       "      <th>SGD</th>\n",
       "      <th>RF</th>\n",
       "    </tr>\n",
       "  </thead>\n",
       "  <tbody>\n",
       "    <tr>\n",
       "      <th>295</th>\n",
       "      <td>Whit Merrifield</td>\n",
       "      <td>502.0</td>\n",
       "      <td>0.811881</td>\n",
       "      <td>0.782609</td>\n",
       "      <td>0.808081</td>\n",
       "    </tr>\n",
       "    <tr>\n",
       "      <th>101</th>\n",
       "      <td>Dee Gordon</td>\n",
       "      <td>649.0</td>\n",
       "      <td>0.789062</td>\n",
       "      <td>0.720588</td>\n",
       "      <td>0.801653</td>\n",
       "    </tr>\n",
       "    <tr>\n",
       "      <th>46</th>\n",
       "      <td>Ben Revere</td>\n",
       "      <td>346.0</td>\n",
       "      <td>0.757143</td>\n",
       "      <td>0.765957</td>\n",
       "      <td>0.796610</td>\n",
       "    </tr>\n",
       "    <tr>\n",
       "      <th>121</th>\n",
       "      <td>Nick Hundley</td>\n",
       "      <td>341.0</td>\n",
       "      <td>0.766667</td>\n",
       "      <td>0.771930</td>\n",
       "      <td>0.785714</td>\n",
       "    </tr>\n",
       "    <tr>\n",
       "      <th>293</th>\n",
       "      <td>Cheslor Cuthbert</td>\n",
       "      <td>256.0</td>\n",
       "      <td>0.761905</td>\n",
       "      <td>0.763158</td>\n",
       "      <td>0.783784</td>\n",
       "    </tr>\n",
       "  </tbody>\n",
       "</table>\n",
       "</div>"
      ],
      "text/plain": [
       "                 Name  Samples        LR       SGD        RF\n",
       "295   Whit Merrifield    502.0  0.811881  0.782609  0.808081\n",
       "101        Dee Gordon    649.0  0.789062  0.720588  0.801653\n",
       "46         Ben Revere    346.0  0.757143  0.765957  0.796610\n",
       "121      Nick Hundley    341.0  0.766667  0.771930  0.785714\n",
       "293  Cheslor Cuthbert    256.0  0.761905  0.763158  0.783784"
      ]
     },
     "execution_count": 45,
     "metadata": {},
     "output_type": "execute_result"
    }
   ],
   "source": [
    "players.sort_values(by = 'RF', ascending = False).head()"
   ]
  },
  {
   "cell_type": "code",
   "execution_count": null,
   "metadata": {},
   "outputs": [],
   "source": []
  }
 ],
 "metadata": {
  "kernelspec": {
   "display_name": "mlb_hit_predictor",
   "language": "python",
   "name": "mlb_hit_predictor"
  },
  "language_info": {
   "codemirror_mode": {
    "name": "ipython",
    "version": 3
   },
   "file_extension": ".py",
   "mimetype": "text/x-python",
   "name": "python",
   "nbconvert_exporter": "python",
   "pygments_lexer": "ipython3",
   "version": "3.9.6"
  }
 },
 "nbformat": 4,
 "nbformat_minor": 4
}
