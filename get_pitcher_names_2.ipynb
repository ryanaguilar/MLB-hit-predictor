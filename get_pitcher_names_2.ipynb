{
 "cells": [
  {
   "cell_type": "code",
   "execution_count": 31,
   "metadata": {},
   "outputs": [],
   "source": [
    "import sqlalchemy\n",
    "from sqlalchemy import text\n",
    "import psycopg2\n",
    "from psycopg2.extensions import cursor\n",
    "from sqlalchemy import create_engine\n",
    "from urllib.parse import quote_plus\n",
    "import json\n",
    "from typing import Generator\n",
    "import requests\n",
    "import re\n",
    "import pandas as pd\n",
    "import logging\n",
    "import csv\n",
    "import time\n",
    "import json\n",
    "from pybaseball import statcast_single_game, statcast_pitcher, playerid_reverse_lookup, playerid_lookup"
   ]
  },
  {
   "cell_type": "code",
   "execution_count": 23,
   "metadata": {},
   "outputs": [
    {
     "name": "stdout",
     "output_type": "stream",
     "text": [
      "made connection\n"
     ]
    }
   ],
   "source": [
    "database_username = 'postgres'\n",
    "database_password = quote_plus(\"postgres\")\n",
    "database_ip       = '172.19.0.2'\n",
    "database_name     = 'mlb_dw'\n",
    "database_connection = sqlalchemy.create_engine('postgresql+psycopg2://{0}:{1}@{2}/{3}?options=-csearch_path%3Ddbo,raw'.\n",
    "                                               format(database_username, database_password, \n",
    "                                                      database_ip, database_name), pool_timeout = 28800, max_overflow = -1)\n",
    "connection = database_connection.connect()\n",
    "print(\"made connection\")\n",
    "connection.close()"
   ]
  },
  {
   "cell_type": "code",
   "execution_count": 6,
   "metadata": {},
   "outputs": [],
   "source": [
    "with open('./data/sched_2014.json', 'r') as infile:\n",
    "    sched_2014 = infile.read()\n",
    "    sched_2014_json = json.loads(sched_2014)"
   ]
  },
  {
   "cell_type": "code",
   "execution_count": 24,
   "metadata": {},
   "outputs": [],
   "source": [
    "def extract_games(schedule: json) -> Generator[dict, None, None]:\n",
    "    for date in schedule['dates']:\n",
    "        for game in date['games']:\n",
    "            yield {'date':date['date'], 'gamePk':game['gamePk']}"
   ]
  },
  {
   "cell_type": "code",
   "execution_count": 8,
   "metadata": {},
   "outputs": [],
   "source": [
    "ext_games_2014 = extract_games(sched_2014_json) "
   ]
  },
  {
   "cell_type": "code",
   "execution_count": 9,
   "metadata": {},
   "outputs": [
    {
     "name": "stdout",
     "output_type": "stream",
     "text": [
      "{'date': '2014-03-22', 'gamePk': 380537}\n"
     ]
    }
   ],
   "source": [
    "print(next(ext_games_2014))"
   ]
  },
  {
   "cell_type": "code",
   "execution_count": 46,
   "metadata": {},
   "outputs": [],
   "source": [
    "def load_games(games, database_connection, logfile, pk_list):\n",
    "    for date in games:\n",
    "        if str(date['gamePk']) not in pk_list:\n",
    "            connection = database_connection.connect()\n",
    "            #print(\"made connection\")\n",
    "            try:\n",
    "                data = statcast_single_game(date['gamePk'])\n",
    "                data.to_sql('game_data_2023', connection, if_exists='append')\n",
    "                with open(f'./data/{logfile}', 'a') as outfile:\n",
    "                    outfile.write(str(date['gamePk']))\n",
    "            except Exception as e:\n",
    "                print(f\"error={e}, gamePk={date['gamePk']}\")\n",
    "                connection.close()\n",
    "            connection.close()"
   ]
  },
  {
   "cell_type": "code",
   "execution_count": 11,
   "metadata": {},
   "outputs": [],
   "source": [
    "game_396303 = statcast_single_game(396303)"
   ]
  },
  {
   "cell_type": "code",
   "execution_count": 12,
   "metadata": {},
   "outputs": [
    {
     "data": {
      "text/html": [
       "<div>\n",
       "<style scoped>\n",
       "    .dataframe tbody tr th:only-of-type {\n",
       "        vertical-align: middle;\n",
       "    }\n",
       "\n",
       "    .dataframe tbody tr th {\n",
       "        vertical-align: top;\n",
       "    }\n",
       "\n",
       "    .dataframe thead th {\n",
       "        text-align: right;\n",
       "    }\n",
       "</style>\n",
       "<table border=\"1\" class=\"dataframe\">\n",
       "  <thead>\n",
       "    <tr style=\"text-align: right;\">\n",
       "      <th></th>\n",
       "      <th>pitch_type</th>\n",
       "      <th>game_date</th>\n",
       "      <th>release_speed</th>\n",
       "      <th>release_pos_x</th>\n",
       "      <th>release_pos_z</th>\n",
       "      <th>player_name</th>\n",
       "      <th>batter</th>\n",
       "      <th>pitcher</th>\n",
       "      <th>events</th>\n",
       "      <th>description</th>\n",
       "      <th>...</th>\n",
       "      <th>fld_score</th>\n",
       "      <th>post_away_score</th>\n",
       "      <th>post_home_score</th>\n",
       "      <th>post_bat_score</th>\n",
       "      <th>post_fld_score</th>\n",
       "      <th>if_fielding_alignment</th>\n",
       "      <th>of_fielding_alignment</th>\n",
       "      <th>spin_axis</th>\n",
       "      <th>delta_home_win_exp</th>\n",
       "      <th>delta_run_exp</th>\n",
       "    </tr>\n",
       "  </thead>\n",
       "  <tbody>\n",
       "    <tr>\n",
       "      <th>236</th>\n",
       "      <td>FF</td>\n",
       "      <td>2014-03-22</td>\n",
       "      <td>90.7</td>\n",
       "      <td>0.97</td>\n",
       "      <td>5.73</td>\n",
       "      <td>Adduci, James</td>\n",
       "      <td>451192</td>\n",
       "      <td>525768</td>\n",
       "      <td>strikeout</td>\n",
       "      <td>swinging_strike</td>\n",
       "      <td>...</td>\n",
       "      <td>8</td>\n",
       "      <td>4</td>\n",
       "      <td>8</td>\n",
       "      <td>4</td>\n",
       "      <td>8</td>\n",
       "      <td>NaN</td>\n",
       "      <td>NaN</td>\n",
       "      <td>NaN</td>\n",
       "      <td>0.003</td>\n",
       "      <td>NaN</td>\n",
       "    </tr>\n",
       "    <tr>\n",
       "      <th>242</th>\n",
       "      <td>FF</td>\n",
       "      <td>2014-03-22</td>\n",
       "      <td>92.5</td>\n",
       "      <td>0.81</td>\n",
       "      <td>5.71</td>\n",
       "      <td>Adduci, James</td>\n",
       "      <td>451192</td>\n",
       "      <td>525768</td>\n",
       "      <td>NaN</td>\n",
       "      <td>ball</td>\n",
       "      <td>...</td>\n",
       "      <td>8</td>\n",
       "      <td>4</td>\n",
       "      <td>8</td>\n",
       "      <td>4</td>\n",
       "      <td>8</td>\n",
       "      <td>NaN</td>\n",
       "      <td>NaN</td>\n",
       "      <td>NaN</td>\n",
       "      <td>0.000</td>\n",
       "      <td>NaN</td>\n",
       "    </tr>\n",
       "    <tr>\n",
       "      <th>250</th>\n",
       "      <td>FF</td>\n",
       "      <td>2014-03-22</td>\n",
       "      <td>91.4</td>\n",
       "      <td>0.89</td>\n",
       "      <td>5.77</td>\n",
       "      <td>Adduci, James</td>\n",
       "      <td>451192</td>\n",
       "      <td>525768</td>\n",
       "      <td>NaN</td>\n",
       "      <td>foul</td>\n",
       "      <td>...</td>\n",
       "      <td>8</td>\n",
       "      <td>4</td>\n",
       "      <td>8</td>\n",
       "      <td>4</td>\n",
       "      <td>8</td>\n",
       "      <td>NaN</td>\n",
       "      <td>NaN</td>\n",
       "      <td>NaN</td>\n",
       "      <td>0.000</td>\n",
       "      <td>NaN</td>\n",
       "    </tr>\n",
       "    <tr>\n",
       "      <th>257</th>\n",
       "      <td>CU</td>\n",
       "      <td>2014-03-22</td>\n",
       "      <td>73.0</td>\n",
       "      <td>1.24</td>\n",
       "      <td>5.67</td>\n",
       "      <td>Adduci, James</td>\n",
       "      <td>451192</td>\n",
       "      <td>525768</td>\n",
       "      <td>NaN</td>\n",
       "      <td>blocked_ball</td>\n",
       "      <td>...</td>\n",
       "      <td>8</td>\n",
       "      <td>4</td>\n",
       "      <td>8</td>\n",
       "      <td>4</td>\n",
       "      <td>8</td>\n",
       "      <td>NaN</td>\n",
       "      <td>NaN</td>\n",
       "      <td>NaN</td>\n",
       "      <td>0.000</td>\n",
       "      <td>NaN</td>\n",
       "    </tr>\n",
       "    <tr>\n",
       "      <th>264</th>\n",
       "      <td>CU</td>\n",
       "      <td>2014-03-22</td>\n",
       "      <td>72.7</td>\n",
       "      <td>1.37</td>\n",
       "      <td>5.67</td>\n",
       "      <td>Adduci, James</td>\n",
       "      <td>451192</td>\n",
       "      <td>525768</td>\n",
       "      <td>NaN</td>\n",
       "      <td>ball</td>\n",
       "      <td>...</td>\n",
       "      <td>8</td>\n",
       "      <td>4</td>\n",
       "      <td>8</td>\n",
       "      <td>4</td>\n",
       "      <td>8</td>\n",
       "      <td>NaN</td>\n",
       "      <td>NaN</td>\n",
       "      <td>NaN</td>\n",
       "      <td>0.000</td>\n",
       "      <td>NaN</td>\n",
       "    </tr>\n",
       "    <tr>\n",
       "      <th>...</th>\n",
       "      <td>...</td>\n",
       "      <td>...</td>\n",
       "      <td>...</td>\n",
       "      <td>...</td>\n",
       "      <td>...</td>\n",
       "      <td>...</td>\n",
       "      <td>...</td>\n",
       "      <td>...</td>\n",
       "      <td>...</td>\n",
       "      <td>...</td>\n",
       "      <td>...</td>\n",
       "      <td>...</td>\n",
       "      <td>...</td>\n",
       "      <td>...</td>\n",
       "      <td>...</td>\n",
       "      <td>...</td>\n",
       "      <td>...</td>\n",
       "      <td>...</td>\n",
       "      <td>...</td>\n",
       "      <td>...</td>\n",
       "      <td>...</td>\n",
       "    </tr>\n",
       "    <tr>\n",
       "      <th>244</th>\n",
       "      <td>FF</td>\n",
       "      <td>2014-03-22</td>\n",
       "      <td>87.8</td>\n",
       "      <td>1.81</td>\n",
       "      <td>6.25</td>\n",
       "      <td>Adduci, James</td>\n",
       "      <td>451192</td>\n",
       "      <td>450306</td>\n",
       "      <td>NaN</td>\n",
       "      <td>called_strike</td>\n",
       "      <td>...</td>\n",
       "      <td>0</td>\n",
       "      <td>0</td>\n",
       "      <td>0</td>\n",
       "      <td>0</td>\n",
       "      <td>0</td>\n",
       "      <td>NaN</td>\n",
       "      <td>NaN</td>\n",
       "      <td>NaN</td>\n",
       "      <td>0.000</td>\n",
       "      <td>NaN</td>\n",
       "    </tr>\n",
       "    <tr>\n",
       "      <th>248</th>\n",
       "      <td>FF</td>\n",
       "      <td>2014-03-22</td>\n",
       "      <td>86.4</td>\n",
       "      <td>2.00</td>\n",
       "      <td>6.31</td>\n",
       "      <td>Andrus, Elvis</td>\n",
       "      <td>462101</td>\n",
       "      <td>450306</td>\n",
       "      <td>single</td>\n",
       "      <td>hit_into_play</td>\n",
       "      <td>...</td>\n",
       "      <td>0</td>\n",
       "      <td>0</td>\n",
       "      <td>0</td>\n",
       "      <td>0</td>\n",
       "      <td>0</td>\n",
       "      <td>NaN</td>\n",
       "      <td>NaN</td>\n",
       "      <td>NaN</td>\n",
       "      <td>-0.025</td>\n",
       "      <td>NaN</td>\n",
       "    </tr>\n",
       "    <tr>\n",
       "      <th>255</th>\n",
       "      <td>FF</td>\n",
       "      <td>2014-03-22</td>\n",
       "      <td>85.3</td>\n",
       "      <td>1.95</td>\n",
       "      <td>6.41</td>\n",
       "      <td>Profar, Jurickson</td>\n",
       "      <td>595777</td>\n",
       "      <td>450306</td>\n",
       "      <td>field_out</td>\n",
       "      <td>hit_into_play</td>\n",
       "      <td>...</td>\n",
       "      <td>0</td>\n",
       "      <td>0</td>\n",
       "      <td>0</td>\n",
       "      <td>0</td>\n",
       "      <td>0</td>\n",
       "      <td>NaN</td>\n",
       "      <td>NaN</td>\n",
       "      <td>NaN</td>\n",
       "      <td>0.022</td>\n",
       "      <td>NaN</td>\n",
       "    </tr>\n",
       "    <tr>\n",
       "      <th>269</th>\n",
       "      <td>FC</td>\n",
       "      <td>2014-03-22</td>\n",
       "      <td>85.6</td>\n",
       "      <td>1.90</td>\n",
       "      <td>6.31</td>\n",
       "      <td>Profar, Jurickson</td>\n",
       "      <td>595777</td>\n",
       "      <td>450306</td>\n",
       "      <td>NaN</td>\n",
       "      <td>ball</td>\n",
       "      <td>...</td>\n",
       "      <td>0</td>\n",
       "      <td>0</td>\n",
       "      <td>0</td>\n",
       "      <td>0</td>\n",
       "      <td>0</td>\n",
       "      <td>NaN</td>\n",
       "      <td>NaN</td>\n",
       "      <td>NaN</td>\n",
       "      <td>0.000</td>\n",
       "      <td>NaN</td>\n",
       "    </tr>\n",
       "    <tr>\n",
       "      <th>271</th>\n",
       "      <td>FF</td>\n",
       "      <td>2014-03-22</td>\n",
       "      <td>85.0</td>\n",
       "      <td>2.05</td>\n",
       "      <td>6.40</td>\n",
       "      <td>Profar, Jurickson</td>\n",
       "      <td>595777</td>\n",
       "      <td>450306</td>\n",
       "      <td>NaN</td>\n",
       "      <td>called_strike</td>\n",
       "      <td>...</td>\n",
       "      <td>0</td>\n",
       "      <td>0</td>\n",
       "      <td>0</td>\n",
       "      <td>0</td>\n",
       "      <td>0</td>\n",
       "      <td>NaN</td>\n",
       "      <td>NaN</td>\n",
       "      <td>NaN</td>\n",
       "      <td>0.000</td>\n",
       "      <td>NaN</td>\n",
       "    </tr>\n",
       "  </tbody>\n",
       "</table>\n",
       "<p>278 rows × 92 columns</p>\n",
       "</div>"
      ],
      "text/plain": [
       "    pitch_type  game_date  release_speed  release_pos_x  release_pos_z  \\\n",
       "236         FF 2014-03-22           90.7           0.97           5.73   \n",
       "242         FF 2014-03-22           92.5           0.81           5.71   \n",
       "250         FF 2014-03-22           91.4           0.89           5.77   \n",
       "257         CU 2014-03-22           73.0           1.24           5.67   \n",
       "264         CU 2014-03-22           72.7           1.37           5.67   \n",
       "..         ...        ...            ...            ...            ...   \n",
       "244         FF 2014-03-22           87.8           1.81           6.25   \n",
       "248         FF 2014-03-22           86.4           2.00           6.31   \n",
       "255         FF 2014-03-22           85.3           1.95           6.41   \n",
       "269         FC 2014-03-22           85.6           1.90           6.31   \n",
       "271         FF 2014-03-22           85.0           2.05           6.40   \n",
       "\n",
       "           player_name  batter  pitcher     events      description  ...  \\\n",
       "236      Adduci, James  451192   525768  strikeout  swinging_strike  ...   \n",
       "242      Adduci, James  451192   525768        NaN             ball  ...   \n",
       "250      Adduci, James  451192   525768        NaN             foul  ...   \n",
       "257      Adduci, James  451192   525768        NaN     blocked_ball  ...   \n",
       "264      Adduci, James  451192   525768        NaN             ball  ...   \n",
       "..                 ...     ...      ...        ...              ...  ...   \n",
       "244      Adduci, James  451192   450306        NaN    called_strike  ...   \n",
       "248      Andrus, Elvis  462101   450306     single    hit_into_play  ...   \n",
       "255  Profar, Jurickson  595777   450306  field_out    hit_into_play  ...   \n",
       "269  Profar, Jurickson  595777   450306        NaN             ball  ...   \n",
       "271  Profar, Jurickson  595777   450306        NaN    called_strike  ...   \n",
       "\n",
       "     fld_score  post_away_score  post_home_score  post_bat_score  \\\n",
       "236          8                4                8               4   \n",
       "242          8                4                8               4   \n",
       "250          8                4                8               4   \n",
       "257          8                4                8               4   \n",
       "264          8                4                8               4   \n",
       "..         ...              ...              ...             ...   \n",
       "244          0                0                0               0   \n",
       "248          0                0                0               0   \n",
       "255          0                0                0               0   \n",
       "269          0                0                0               0   \n",
       "271          0                0                0               0   \n",
       "\n",
       "     post_fld_score if_fielding_alignment of_fielding_alignment spin_axis  \\\n",
       "236               8                   NaN                   NaN       NaN   \n",
       "242               8                   NaN                   NaN       NaN   \n",
       "250               8                   NaN                   NaN       NaN   \n",
       "257               8                   NaN                   NaN       NaN   \n",
       "264               8                   NaN                   NaN       NaN   \n",
       "..              ...                   ...                   ...       ...   \n",
       "244               0                   NaN                   NaN       NaN   \n",
       "248               0                   NaN                   NaN       NaN   \n",
       "255               0                   NaN                   NaN       NaN   \n",
       "269               0                   NaN                   NaN       NaN   \n",
       "271               0                   NaN                   NaN       NaN   \n",
       "\n",
       "    delta_home_win_exp delta_run_exp  \n",
       "236              0.003           NaN  \n",
       "242              0.000           NaN  \n",
       "250              0.000           NaN  \n",
       "257              0.000           NaN  \n",
       "264              0.000           NaN  \n",
       "..                 ...           ...  \n",
       "244              0.000           NaN  \n",
       "248             -0.025           NaN  \n",
       "255              0.022           NaN  \n",
       "269              0.000           NaN  \n",
       "271              0.000           NaN  \n",
       "\n",
       "[278 rows x 92 columns]"
      ]
     },
     "execution_count": 12,
     "metadata": {},
     "output_type": "execute_result"
    }
   ],
   "source": [
    "game_396303"
   ]
  },
  {
   "cell_type": "code",
   "execution_count": 16,
   "metadata": {},
   "outputs": [],
   "source": [
    "connection = database_connection.connect()\n",
    "game_396303.to_sql('game_data', connection, if_exists='append')\n",
    "connection.close()"
   ]
  },
  {
   "cell_type": "code",
   "execution_count": 26,
   "metadata": {},
   "outputs": [],
   "source": [
    "r = requests.get(url='https://statsapi.mlb.com/api/v1/schedule?sportId=1&startDate=2023-03-30&endDate=2023-07-06')"
   ]
  },
  {
   "cell_type": "code",
   "execution_count": 27,
   "metadata": {},
   "outputs": [],
   "source": [
    "sched_2023_07_06_json = r.json()"
   ]
  },
  {
   "cell_type": "code",
   "execution_count": 28,
   "metadata": {},
   "outputs": [],
   "source": [
    "ext_games_2023_07_06 = extract_games(sched_2023_07_06_json)"
   ]
  },
  {
   "cell_type": "code",
   "execution_count": 47,
   "metadata": {},
   "outputs": [
    {
     "name": "stdout",
     "output_type": "stream",
     "text": [
      "error='NoneType' object has no attribute 'to_sql', gamePk=718700\n",
      "error='NoneType' object has no attribute 'to_sql', gamePk=718558\n",
      "error='NoneType' object has no attribute 'to_sql', gamePk=718371\n",
      "error='NoneType' object has no attribute 'to_sql', gamePk=717664\n"
     ]
    }
   ],
   "source": [
    "load_games(ext_games_2023_07_06, database_connection, 'inserted_2023_07_06.txt', pk_list)"
   ]
  },
  {
   "cell_type": "code",
   "execution_count": 38,
   "metadata": {},
   "outputs": [],
   "source": [
    "with open(f'./data/inserted_2023_07_06.txt', 'r') as infile:\n",
    "    loaded = infile.read()"
   ]
  },
  {
   "cell_type": "code",
   "execution_count": 39,
   "metadata": {},
   "outputs": [],
   "source": [
    "pk_list = []"
   ]
  },
  {
   "cell_type": "code",
   "execution_count": 40,
   "metadata": {},
   "outputs": [
    {
     "data": {
      "text/plain": [
       "1334.0"
      ]
     },
     "execution_count": 40,
     "metadata": {},
     "output_type": "execute_result"
    }
   ],
   "source": [
    "8004 / 6"
   ]
  },
  {
   "cell_type": "code",
   "execution_count": 41,
   "metadata": {},
   "outputs": [],
   "source": [
    "for i in range(0,1334):\n",
    "    pk_list.append(loaded[:6])\n",
    "    loaded = loaded[6:]"
   ]
  },
  {
   "cell_type": "code",
   "execution_count": 43,
   "metadata": {},
   "outputs": [
    {
     "data": {
      "text/plain": [
       "1334"
      ]
     },
     "execution_count": 43,
     "metadata": {},
     "output_type": "execute_result"
    }
   ],
   "source": [
    "len(pk_list)"
   ]
  },
  {
   "cell_type": "code",
   "execution_count": 44,
   "metadata": {},
   "outputs": [
    {
     "data": {
      "text/plain": [
       "'717462'"
      ]
     },
     "execution_count": 44,
     "metadata": {},
     "output_type": "execute_result"
    }
   ],
   "source": [
    "pk_list[-1]"
   ]
  },
  {
   "cell_type": "code",
   "execution_count": 45,
   "metadata": {},
   "outputs": [
    {
     "name": "stdout",
     "output_type": "stream",
     "text": [
      "718773\n",
      "True\n"
     ]
    }
   ],
   "source": [
    "next_game = next(ext_games_2023_07_06)\n",
    "print(next_game['gamePk'])\n",
    "print(str(next_game['gamePk']) in pk_list)"
   ]
  },
  {
   "cell_type": "code",
   "execution_count": 50,
   "metadata": {},
   "outputs": [
    {
     "name": "stdout",
     "output_type": "stream",
     "text": [
      "Gathering player lookup table. This may take a moment.\n"
     ]
    },
    {
     "data": {
      "text/html": [
       "<div>\n",
       "<style scoped>\n",
       "    .dataframe tbody tr th:only-of-type {\n",
       "        vertical-align: middle;\n",
       "    }\n",
       "\n",
       "    .dataframe tbody tr th {\n",
       "        vertical-align: top;\n",
       "    }\n",
       "\n",
       "    .dataframe thead th {\n",
       "        text-align: right;\n",
       "    }\n",
       "</style>\n",
       "<table border=\"1\" class=\"dataframe\">\n",
       "  <thead>\n",
       "    <tr style=\"text-align: right;\">\n",
       "      <th></th>\n",
       "      <th>name_last</th>\n",
       "      <th>name_first</th>\n",
       "      <th>key_mlbam</th>\n",
       "      <th>key_retro</th>\n",
       "      <th>key_bbref</th>\n",
       "      <th>key_fangraphs</th>\n",
       "      <th>mlb_played_first</th>\n",
       "      <th>mlb_played_last</th>\n",
       "    </tr>\n",
       "  </thead>\n",
       "  <tbody>\n",
       "    <tr>\n",
       "      <th>0</th>\n",
       "      <td>montero</td>\n",
       "      <td>miguel</td>\n",
       "      <td>471083</td>\n",
       "      <td>montm001</td>\n",
       "      <td>montemi01</td>\n",
       "      <td>3364</td>\n",
       "      <td>2006.0</td>\n",
       "      <td>2018.0</td>\n",
       "    </tr>\n",
       "  </tbody>\n",
       "</table>\n",
       "</div>"
      ],
      "text/plain": [
       "  name_last name_first  key_mlbam key_retro  key_bbref  key_fangraphs  \\\n",
       "0   montero     miguel     471083  montm001  montemi01           3364   \n",
       "\n",
       "   mlb_played_first  mlb_played_last  \n",
       "0            2006.0           2018.0  "
      ]
     },
     "execution_count": 50,
     "metadata": {},
     "output_type": "execute_result"
    }
   ],
   "source": [
    "playerid_lookup('Montero', 'Miguel')"
   ]
  },
  {
   "cell_type": "code",
   "execution_count": 28,
   "metadata": {},
   "outputs": [],
   "source": [
    "resp = requests.get(url='https://statsapi.mlb.com/api/v1/game/381165/boxscore')\n",
    "boxscores_381165 = resp.json()\n",
    "players_game_381165 = boxscores_381165['teams']['away']['players']\n",
    "players_list = []\n",
    "for k,v in players_game_381165.items():\n",
    "    players_list.append(v)"
   ]
  },
  {
   "cell_type": "code",
   "execution_count": 3,
   "metadata": {},
   "outputs": [],
   "source": [
    "boxscores_381165 = resp.json()"
   ]
  },
  {
   "cell_type": "code",
   "execution_count": 10,
   "metadata": {},
   "outputs": [],
   "source": [
    "players_game_381165 = boxscores_381165['teams']['away']['players']"
   ]
  },
  {
   "cell_type": "code",
   "execution_count": 11,
   "metadata": {},
   "outputs": [],
   "source": [
    "players_list = []\n",
    "for k,v in players_game_381165.items():\n",
    "    players_list.append(v)"
   ]
  },
  {
   "cell_type": "code",
   "execution_count": 12,
   "metadata": {},
   "outputs": [
    {
     "data": {
      "text/plain": [
       "{'id': 456776, 'fullName': 'Alex Torres', 'link': '/api/v1/people/456776'}"
      ]
     },
     "execution_count": 12,
     "metadata": {},
     "output_type": "execute_result"
    }
   ],
   "source": [
    "players_list[0]['person']"
   ]
  },
  {
   "cell_type": "code",
   "execution_count": 17,
   "metadata": {},
   "outputs": [
    {
     "ename": "AttributeError",
     "evalue": "'Connection' object has no attribute 'cursor'",
     "output_type": "error",
     "traceback": [
      "\u001b[0;31m---------------------------------------------------------------------------\u001b[0m",
      "\u001b[0;31mAttributeError\u001b[0m                            Traceback (most recent call last)",
      "Cell \u001b[0;32mIn[17], line 2\u001b[0m\n\u001b[1;32m      1\u001b[0m conn \u001b[39m=\u001b[39m database_connection\u001b[39m.\u001b[39mconnect()\n\u001b[0;32m----> 2\u001b[0m cur \u001b[39m=\u001b[39m conn\u001b[39m.\u001b[39;49mcursor()\n\u001b[1;32m      3\u001b[0m cur\u001b[39m.\u001b[39mclose()\n\u001b[1;32m      4\u001b[0m conn\u001b[39m.\u001b[39mclose()\n",
      "\u001b[0;31mAttributeError\u001b[0m: 'Connection' object has no attribute 'cursor'"
     ]
    }
   ],
   "source": [
    "conn = database_connection.connect()\n",
    "cur = conn.cursor()\n",
    "cur.close()\n",
    "conn.close()"
   ]
  },
  {
   "cell_type": "code",
   "execution_count": 20,
   "metadata": {},
   "outputs": [
    {
     "name": "stdout",
     "output_type": "stream",
     "text": [
      "user=postgres:postgres,password=postgres, host=172.19.0.2,dbname=mlb_dw\n"
     ]
    }
   ],
   "source": [
    "database_username = 'postgres'\n",
    "database_password = 'postgres'\n",
    "database_ip       = '172.19.0.2'\n",
    "database_name     = 'mlb_dw'\n",
    "dsn = f'user={database_username},password={database_password}, host={database_ip},dbname={database_name}'\n",
    "print(dsn)"
   ]
  },
  {
   "cell_type": "code",
   "execution_count": 21,
   "metadata": {},
   "outputs": [
    {
     "ename": "OperationalError",
     "evalue": "fe_sendauth: no password supplied\n",
     "output_type": "error",
     "traceback": [
      "\u001b[0;31m---------------------------------------------------------------------------\u001b[0m",
      "\u001b[0;31mOperationalError\u001b[0m                          Traceback (most recent call last)",
      "Cell \u001b[0;32mIn[21], line 1\u001b[0m\n\u001b[0;32m----> 1\u001b[0m conn \u001b[39m=\u001b[39m psycopg2\u001b[39m.\u001b[39;49mconnect(dsn)\n\u001b[1;32m      2\u001b[0m \u001b[39mwith\u001b[39;00m conn:\n\u001b[1;32m      3\u001b[0m     \u001b[39mwith\u001b[39;00m conn\u001b[39m.\u001b[39mcursor() \u001b[39mas\u001b[39;00m curs:\n",
      "File \u001b[0;32m/workspaces/MLB-hit-predictor/mlb-hit-predictor/lib/python3.9/site-packages/psycopg2/__init__.py:122\u001b[0m, in \u001b[0;36mconnect\u001b[0;34m(dsn, connection_factory, cursor_factory, **kwargs)\u001b[0m\n\u001b[1;32m    119\u001b[0m     kwasync[\u001b[39m'\u001b[39m\u001b[39masync_\u001b[39m\u001b[39m'\u001b[39m] \u001b[39m=\u001b[39m kwargs\u001b[39m.\u001b[39mpop(\u001b[39m'\u001b[39m\u001b[39masync_\u001b[39m\u001b[39m'\u001b[39m)\n\u001b[1;32m    121\u001b[0m dsn \u001b[39m=\u001b[39m _ext\u001b[39m.\u001b[39mmake_dsn(dsn, \u001b[39m*\u001b[39m\u001b[39m*\u001b[39mkwargs)\n\u001b[0;32m--> 122\u001b[0m conn \u001b[39m=\u001b[39m _connect(dsn, connection_factory\u001b[39m=\u001b[39;49mconnection_factory, \u001b[39m*\u001b[39;49m\u001b[39m*\u001b[39;49mkwasync)\n\u001b[1;32m    123\u001b[0m \u001b[39mif\u001b[39;00m cursor_factory \u001b[39mis\u001b[39;00m \u001b[39mnot\u001b[39;00m \u001b[39mNone\u001b[39;00m:\n\u001b[1;32m    124\u001b[0m     conn\u001b[39m.\u001b[39mcursor_factory \u001b[39m=\u001b[39m cursor_factory\n",
      "\u001b[0;31mOperationalError\u001b[0m: fe_sendauth: no password supplied\n"
     ]
    }
   ],
   "source": [
    "\n",
    "conn = psycopg2.connect(dsn)\n",
    "with conn:\n",
    "    with conn.cursor() as curs:\n",
    "        curs.close()\n",
    "conn.close"
   ]
  },
  {
   "cell_type": "code",
   "execution_count": 35,
   "metadata": {},
   "outputs": [],
   "source": [
    "with database_connection.connect() as connection:\n",
    "    # Assuming you have a \"users\" table with columns \"name\" and \"email\"\n",
    "    table = \"box_scores\"\n",
    "    data = json.dumps(players_list[0])\n",
    "    connection.execute(text(f\"INSERT INTO {table} (v_player_game) VALUES ('{data}')\"))\n",
    "connection.close()\n"
   ]
  },
  {
   "cell_type": "code",
   "execution_count": null,
   "metadata": {},
   "outputs": [],
   "source": []
  }
 ],
 "metadata": {
  "kernelspec": {
   "display_name": "mlb-hit-predictor",
   "language": "python",
   "name": "mlb-hit-predictor"
  },
  "language_info": {
   "codemirror_mode": {
    "name": "ipython",
    "version": 3
   },
   "file_extension": ".py",
   "mimetype": "text/x-python",
   "name": "python",
   "nbconvert_exporter": "python",
   "pygments_lexer": "ipython3",
   "version": "3.9.17"
  },
  "orig_nbformat": 4
 },
 "nbformat": 4,
 "nbformat_minor": 2
}
